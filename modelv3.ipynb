{
 "cells": [
  {
   "cell_type": "code",
   "execution_count": 9,
   "source": [
    "import pandas as pd \r\n",
    "import numpy as np \r\n",
    "import tensorflow as tf\r\n",
    "import keras \r\n",
    "from keras.models import Sequential\r\n",
    "from keras.layers import Conv2D, MaxPooling2D, AveragePooling2D, Dense, Activation, Dropout, Flatten, BatchNormalization\r\n",
    "from keras.preprocessing import image\r\n",
    "from keras.metrics import categorical_accuracy\r\n",
    "from keras.models import model_from_json\r\n",
    "from keras.callbacks import ModelCheckpoint\r\n",
    "from keras.optimizers import *\r\n",
    "from keras.preprocessing.image import ImageDataGenerator\r\n",
    "import matplotlib.pyplot as plt "
   ],
   "outputs": [],
   "metadata": {}
  },
  {
   "cell_type": "code",
   "execution_count": 2,
   "source": [
    "label_map = ['Anger', 'Disgust', 'Fear', 'Happy', 'Sad', 'Surprise', 'Neutral']\r\n",
    "df = pd.read_csv('fer2013.csv')\r\n",
    "im = df['pixels']\r\n",
    "df.head(10)"
   ],
   "outputs": [
    {
     "output_type": "execute_result",
     "data": {
      "text/html": [
       "<div>\n",
       "<style scoped>\n",
       "    .dataframe tbody tr th:only-of-type {\n",
       "        vertical-align: middle;\n",
       "    }\n",
       "\n",
       "    .dataframe tbody tr th {\n",
       "        vertical-align: top;\n",
       "    }\n",
       "\n",
       "    .dataframe thead th {\n",
       "        text-align: right;\n",
       "    }\n",
       "</style>\n",
       "<table border=\"1\" class=\"dataframe\">\n",
       "  <thead>\n",
       "    <tr style=\"text-align: right;\">\n",
       "      <th></th>\n",
       "      <th>emotion</th>\n",
       "      <th>pixels</th>\n",
       "      <th>Usage</th>\n",
       "    </tr>\n",
       "  </thead>\n",
       "  <tbody>\n",
       "    <tr>\n",
       "      <th>0</th>\n",
       "      <td>0</td>\n",
       "      <td>70 80 82 72 58 58 60 63 54 58 60 48 89 115 121...</td>\n",
       "      <td>Training</td>\n",
       "    </tr>\n",
       "    <tr>\n",
       "      <th>1</th>\n",
       "      <td>0</td>\n",
       "      <td>151 150 147 155 148 133 111 140 170 174 182 15...</td>\n",
       "      <td>Training</td>\n",
       "    </tr>\n",
       "    <tr>\n",
       "      <th>2</th>\n",
       "      <td>2</td>\n",
       "      <td>231 212 156 164 174 138 161 173 182 200 106 38...</td>\n",
       "      <td>Training</td>\n",
       "    </tr>\n",
       "    <tr>\n",
       "      <th>3</th>\n",
       "      <td>4</td>\n",
       "      <td>24 32 36 30 32 23 19 20 30 41 21 22 32 34 21 1...</td>\n",
       "      <td>Training</td>\n",
       "    </tr>\n",
       "    <tr>\n",
       "      <th>4</th>\n",
       "      <td>6</td>\n",
       "      <td>4 0 0 0 0 0 0 0 0 0 0 0 3 15 23 28 48 50 58 84...</td>\n",
       "      <td>Training</td>\n",
       "    </tr>\n",
       "    <tr>\n",
       "      <th>5</th>\n",
       "      <td>2</td>\n",
       "      <td>55 55 55 55 55 54 60 68 54 85 151 163 170 179 ...</td>\n",
       "      <td>Training</td>\n",
       "    </tr>\n",
       "    <tr>\n",
       "      <th>6</th>\n",
       "      <td>4</td>\n",
       "      <td>20 17 19 21 25 38 42 42 46 54 56 62 63 66 82 1...</td>\n",
       "      <td>Training</td>\n",
       "    </tr>\n",
       "    <tr>\n",
       "      <th>7</th>\n",
       "      <td>3</td>\n",
       "      <td>77 78 79 79 78 75 60 55 47 48 58 73 77 79 57 5...</td>\n",
       "      <td>Training</td>\n",
       "    </tr>\n",
       "    <tr>\n",
       "      <th>8</th>\n",
       "      <td>3</td>\n",
       "      <td>85 84 90 121 101 102 133 153 153 169 177 189 1...</td>\n",
       "      <td>Training</td>\n",
       "    </tr>\n",
       "    <tr>\n",
       "      <th>9</th>\n",
       "      <td>2</td>\n",
       "      <td>255 254 255 254 254 179 122 107 95 124 149 150...</td>\n",
       "      <td>Training</td>\n",
       "    </tr>\n",
       "  </tbody>\n",
       "</table>\n",
       "</div>"
      ],
      "text/plain": [
       "   emotion                                             pixels     Usage\n",
       "0        0  70 80 82 72 58 58 60 63 54 58 60 48 89 115 121...  Training\n",
       "1        0  151 150 147 155 148 133 111 140 170 174 182 15...  Training\n",
       "2        2  231 212 156 164 174 138 161 173 182 200 106 38...  Training\n",
       "3        4  24 32 36 30 32 23 19 20 30 41 21 22 32 34 21 1...  Training\n",
       "4        6  4 0 0 0 0 0 0 0 0 0 0 0 3 15 23 28 48 50 58 84...  Training\n",
       "5        2  55 55 55 55 55 54 60 68 54 85 151 163 170 179 ...  Training\n",
       "6        4  20 17 19 21 25 38 42 42 46 54 56 62 63 66 82 1...  Training\n",
       "7        3  77 78 79 79 78 75 60 55 47 48 58 73 77 79 57 5...  Training\n",
       "8        3  85 84 90 121 101 102 133 153 153 169 177 189 1...  Training\n",
       "9        2  255 254 255 254 254 179 122 107 95 124 149 150...  Training"
      ]
     },
     "metadata": {},
     "execution_count": 2
    }
   ],
   "metadata": {}
  },
  {
   "cell_type": "code",
   "execution_count": 3,
   "source": [
    "df.shape"
   ],
   "outputs": [
    {
     "output_type": "execute_result",
     "data": {
      "text/plain": [
       "(35887, 3)"
      ]
     },
     "metadata": {},
     "execution_count": 3
    }
   ],
   "metadata": {}
  },
  {
   "cell_type": "code",
   "execution_count": 4,
   "source": [
    "def getData(filename):\r\n",
    "    #imagesize = 48x48\r\n",
    "    Y = []\r\n",
    "    X = []\r\n",
    "    first = True\r\n",
    "    for line in open(filename):\r\n",
    "        if first:\r\n",
    "            first = False\r\n",
    "        else:\r\n",
    "            row = line.split(',')\r\n",
    "            Y.append(int(row[0]))\r\n",
    "            X.append([int(p) for p in row[1].split()])\r\n",
    "    X, Y = np.array(X) / 255.0, np.array(Y)\r\n",
    "    return X,Y"
   ],
   "outputs": [],
   "metadata": {}
  },
  {
   "cell_type": "code",
   "execution_count": 5,
   "source": [
    "X, Y = getData('fer2013.csv')\r\n",
    "num_class = len(set(Y))\r\n",
    "print('No. of classes are ',num_class)"
   ],
   "outputs": [
    {
     "output_type": "stream",
     "name": "stdout",
     "text": [
      "No. of classes are  7\n"
     ]
    }
   ],
   "metadata": {}
  },
  {
   "cell_type": "code",
   "execution_count": 6,
   "source": [
    "X.shape, Y.shape"
   ],
   "outputs": [
    {
     "output_type": "execute_result",
     "data": {
      "text/plain": [
       "((35887, 2304), (35887,))"
      ]
     },
     "metadata": {},
     "execution_count": 6
    }
   ],
   "metadata": {}
  },
  {
   "cell_type": "code",
   "execution_count": 7,
   "source": [
    "N, D = X.shape\r\n",
    "X = X.reshape(N, 48, 48, 1)\r\n"
   ],
   "outputs": [],
   "metadata": {}
  },
  {
   "cell_type": "code",
   "execution_count": 8,
   "source": [
    "from sklearn.model_selection import train_test_split\r\n",
    "\r\n",
    "X_train, X_test, y_train, y_test = train_test_split(X, Y, test_size=0.1, random_state=0)\r\n",
    "y_train = (np.arange(num_class) == y_train[:, None]).astype(np.float32)\r\n",
    "y_test = (np.arange(num_class) == y_test[:, None]).astype(np.float32)"
   ],
   "outputs": [],
   "metadata": {}
  },
  {
   "cell_type": "code",
   "execution_count": null,
   "source": [
    "def proto_model():\r\n",
    "    model = Sequential()\r\n",
    "    input_shape = (48,48,1)\r\n",
    "    model.add(Conv2D(64, (5, 5), input_shape=input_shape,activation='relu', padding='same'))\r\n",
    "    model.add(Conv2D(64, (5, 5), activation='relu', padding='same'))\r\n",
    "    model.add(BatchNormalization())\r\n",
    "    model.add(MaxPooling2D(pool_size=(2, 2)))\r\n",
    "    Dropout(0.75)\r\n",
    "\r\n",
    "    model.add(Conv2D(128, (5, 5),activation='relu',padding='same'))\r\n",
    "    model.add(Conv2D(128, (5, 5),activation='relu',padding='same'))\r\n",
    "    model.add(BatchNormalization())\r\n",
    "    model.add(MaxPooling2D(pool_size=(2, 2)))\r\n",
    "    Dropout(0.75)\r\n",
    "\r\n",
    "    model.add(Conv2D(256, (3, 3),activation='relu',padding='same'))\r\n",
    "    model.add(Conv2D(256, (3, 3),activation='relu',padding='same'))\r\n",
    "    model.add(BatchNormalization())\r\n",
    "    model.add(MaxPooling2D(pool_size=(2, 2)))\r\n",
    "    Dropout(0.75)\r\n",
    "\r\n",
    "    model.add(Conv2D(128, (3, 3),activation='relu',padding='same'))\r\n",
    "    model.add(Conv2D(128, (3, 3),activation='relu',padding='same'))\r\n",
    "    model.add(BatchNormalization())\r\n",
    "    model.add(MaxPooling2D(pool_size=(2, 2)))\r\n",
    "    Dropout(0.5)\r\n",
    "\r\n",
    "    model.add(Flatten())\r\n",
    "    model.add(Dense(128))\r\n",
    "    \r\n",
    "    model.add(BatchNormalization())\r\n",
    "    model.add(Activation('relu'))\r\n",
    "    model.add(Dropout(0.2))\r\n",
    "    model.add(Dense(7))\r\n",
    "    model.add(Activation('softmax'))\r\n",
    "    \r\n",
    "    model.compile(loss='categorical_crossentropy', metrics=['accuracy'],optimizer='adam')\r\n",
    "    # UNCOMMENT THIS TO VIEW THE ARCHITECTURE\r\n",
    "    #model.summary()\r\n",
    "    \r\n",
    "    return model\r\n",
    "model=proto_model()\r\n",
    "model.summary()"
   ],
   "outputs": [],
   "metadata": {}
  }
 ],
 "metadata": {
  "orig_nbformat": 4,
  "language_info": {
   "name": "python",
   "version": "3.8.11",
   "mimetype": "text/x-python",
   "codemirror_mode": {
    "name": "ipython",
    "version": 3
   },
   "pygments_lexer": "ipython3",
   "nbconvert_exporter": "python",
   "file_extension": ".py"
  },
  "kernelspec": {
   "name": "python3",
   "display_name": "Python 3.8.11 64-bit ('tf-venv': conda)"
  },
  "interpreter": {
   "hash": "fae94565347bc4426000fb7dcef58df287d6a2564185e23adb39d1fd92655a04"
  }
 },
 "nbformat": 4,
 "nbformat_minor": 2
}